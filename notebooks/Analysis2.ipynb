{
 "cells": [
  {
   "cell_type": "code",
   "execution_count": null,
   "metadata": {
    "tags": []
   },
   "outputs": [],
   "source": [
    "versioninfo()"
   ]
  },
  {
   "cell_type": "code",
   "execution_count": null,
   "metadata": {},
   "outputs": [],
   "source": [
    "]instantiate"
   ]
  },
  {
   "cell_type": "code",
   "execution_count": null,
   "metadata": {
    "tags": []
   },
   "outputs": [],
   "source": [
    "using DatasetManager, LabDataSources, ParkinsonsDualTaskCoordination, C3D, DSP, DataFrames,\n",
    "    PlotlyJS, HypothesisTests, Biomechanics, Statistics, Printf, PrettyTables,\n",
    "    CategoricalArrays, CSV, DataFramesMeta"
   ]
  },
  {
   "cell_type": "code",
   "execution_count": null,
   "metadata": {
    "tags": []
   },
   "outputs": [],
   "source": [
    "rootdir = joinpath(pkgdir(ParkinsonsDualTaskCoordination), \"data\")\n",
    "\n",
    "rawpath = joinpath(rootdir, \"raw\")\n",
    "genpath = joinpath(rootdir, \"generated\")\n",
    "\n",
    "subsets = [\n",
    "    DataSubset(\"c3d\", Source{C3DFile}, joinpath(rawpath, \"c3d\"), \"S*.c3d\"),\n",
    "    DataSubset(\"ik\", OSimMotion, genpath, \"Subject */ik/*.mot.gz\"),\n",
    "    DataSubset(\"events\", V3DEventsSource, genpath, \"Subject */events/*.tsv\"),\n",
    "    DataSubset(\"dflow\", Source{RawDFlowPD}, joinpath(rawpath, \"dflow\"), \"S*.txt\"),\n",
    "]\n",
    "\n",
    "labels = Dict(\n",
    "    :subject => r\"(?<=S)\\d+B?\",\n",
    "    :task => r\"single|dual\"\n",
    ")\n",
    "conds = TrialConditions((:subject,:task), labels)\n",
    "\n",
    "trials = findtrials(subsets, conds)\n",
    "\n",
    "modelsubset = DataSubset(\"model\", Source{OSimModel}, joinpath(rawpath, \"models\"), \"S*.osim\"; dependent=true)\n",
    "conds = TrialConditions((:model,), Dict(:model => (r\".osim$\" => \"model\" => \"model\")); subject_fmt=r\"(?<=S)(?<subject>\\d+B?)\", required=(:subject,))\n",
    "findtrials!(trials, [modelsubset], conds)\n",
    "\n",
    "setfield!.(trials[findall(==(\"15B\")∘subject, trials)], :subject, \"15\")\n",
    "\n",
    "demog = CSV.read(\"../data/demographics.csv\", DataFrame)\n",
    "moreaffected_side = Dict(string.(demog[!,\"Participant ID\"]) .=> demog[!,\"More affected Side\"])\n",
    "addcondition!.(trials, :ma_side => t -> moreaffected_side[subject(t)])\n",
    "\n",
    "summarize(trials; ignoreconditions=[:ma_side])"
   ]
  },
  {
   "cell_type": "markdown",
   "metadata": {},
   "source": [
    "## Main analysis"
   ]
  },
  {
   "cell_type": "code",
   "execution_count": null,
   "metadata": {
    "tags": []
   },
   "outputs": [],
   "source": [
    "srs = analyzedataset(trials, OSimMotion) do trial\n",
    "    analyze(trial; genpath)\n",
    "end;"
   ]
  },
  {
   "cell_type": "markdown",
   "metadata": {},
   "source": [
    "## Statistics"
   ]
  },
  {
   "cell_type": "code",
   "execution_count": null,
   "metadata": {
    "tags": []
   },
   "outputs": [],
   "source": [
    "longdf = DatasetManager.stack(srs, [:task,:ma_side])\n",
    "levels!(longdf.task, [\"single\", \"dual\"])\n",
    "ordered!(longdf.task, true)\n",
    "sort!(longdf, [:subject,:task])\n",
    "\n",
    "widedf = unstack(longdf)\n",
    "gd = groupby(widedf, :task);"
   ]
  },
  {
   "cell_type": "code",
   "execution_count": null,
   "metadata": {
    "tags": []
   },
   "outputs": [],
   "source": [
    "vars = filter(!contains(r\"(asym|phase)$\"), resultsvariables(srs))\n",
    "degreevars = vars[findall(contains(r\"flex|phase\"), vars)]\n",
    "nondegreevars = setdiff(vars, degreevars);"
   ]
  },
  {
   "cell_type": "code",
   "execution_count": null,
   "metadata": {},
   "outputs": [],
   "source": [
    "CSV.write(\"../results/results.csv\", longdf)"
   ]
  },
  {
   "cell_type": "code",
   "execution_count": null,
   "metadata": {},
   "outputs": [],
   "source": [
    "write_results(\"../results/results-wide.csv\", longdf, [:task])"
   ]
  },
  {
   "cell_type": "code",
   "execution_count": null,
   "metadata": {
    "tags": []
   },
   "outputs": [],
   "source": [
    "sort!(combine(gd, [:numlsteps, :numrsteps] => ((l,r) -> [(mean([l;r]), std([l;r]), minimum([l;r]))]) => [:steps_avg, :steps_std, :steps_min]), :task)"
   ]
  },
  {
   "cell_type": "code",
   "execution_count": null,
   "metadata": {
    "tags": []
   },
   "outputs": [],
   "source": [
    "combine(widedf, :gait_speed => (v -> [(mean(skipmissing(v)), std(skipmissing(v)), minimum(skipmissing(v)))]) => [:avg_gaitvelocity, :gaitvelocity_std, :min_gaitvelocity])"
   ]
  },
  {
   "cell_type": "markdown",
   "metadata": {},
   "source": [
    "# Statistical Analysis"
   ]
  },
  {
   "cell_type": "code",
   "execution_count": null,
   "metadata": {
    "tags": []
   },
   "outputs": [],
   "source": [
    "function unzip(x::Vector{NTuple{N,T}}) where {N,T}\n",
    "    out = ntuple(_ -> Vector{T}(undef, 0), N)\n",
    "    unzip!(out,x)\n",
    "end\n",
    "\n",
    "function unzip!(out, x::Vector{NTuple{N,T}}) where {N,T}\n",
    "    for i in eachindex(x), j in 1:N\n",
    "        push!(out[j], x[i][j])\n",
    "    end\n",
    "    \n",
    "    return out\n",
    "end\n",
    "\n",
    "function dropmissingpairs(x, y)\n",
    "    a,b = unzip(filter(x -> !any(ismissing, x), zip(x, y) |> collect))\n",
    "    V = Vector{nonmissingtype(eltype(a))}\n",
    "    return convert(V, a), convert(V, b)\n",
    "end"
   ]
  },
  {
   "cell_type": "code",
   "execution_count": null,
   "metadata": {
    "tags": []
   },
   "outputs": [],
   "source": [
    "function CohensDz(test::OneSampleTTest)\n",
    "    return test.t/sqrt(test.n)\n",
    "end\n",
    "\n",
    "function hedges_correction(n1, n2=n1)\n",
    "    return (1-(3/(4*(n1+n2)-9)))\n",
    "end\n",
    "\n",
    "function CohensDₐᵥ(mdiff, sd1, sd2, n1, n2=n1; lessbiased=true)\n",
    "    correction = lessbiased ? hedges_correction(n1, n2) : 1\n",
    "    return mdiff/((sd1+sd2)/2)*correction\n",
    "end"
   ]
  },
  {
   "cell_type": "markdown",
   "metadata": {
    "tags": []
   },
   "source": [
    "## Original analysis"
   ]
  },
  {
   "cell_type": "code",
   "execution_count": null,
   "metadata": {
    "tags": []
   },
   "outputs": [],
   "source": [
    "function ttest_table(df)\n",
    "    _df = select(df, r\"^(la|ma|hip|shoulder)|task|pci|asym$\")\n",
    "    dt = _df[_df.task .== \"dual\",:]\n",
    "    st = _df[_df.task .== \"single\",:]\n",
    "    varnames = names(_df, Not([:task,:ma_side]))\n",
    "    ttests = [[ OneSampleTTest((-)(dropmissingpairs(dt[!, col], st[!, col])...)) for col in intersect(nondegreevars, varnames) ];\n",
    "        [ OneSampleTTest(circmeand((-)(dropmissingpairs(dt[!, col], st[!, col])...)),\n",
    "                circstdd((-)(dropmissingpairs(dt[!, col], st[!, col])...)), length(dropmissingpairs(dt[!, col], st[!, col])[1]), 0) for col in intersect(degreevars, varnames) ]]\n",
    "    variables = [intersect(string.(nondegreevars), varnames); intersect(string.(degreevars), varnames)]\n",
    "    \n",
    "    split_and_count(std, x) = (std.(x)..., length(x[1]))\n",
    "    Gavs = [\n",
    "        [ CohensDₐᵥ(getproperty(test, :xbar), split_and_count(std, dropmissingpairs(dt[!, var], st[!, var]))...)\n",
    "            for (test, var) in zip(ttests, intersect(string.(nondegreevars), varnames)) ];\n",
    "        [ CohensDₐᵥ(getproperty(test, :xbar), split_and_count(circstdd, dropmissingpairs(dt[!, var], st[!, var]))...)\n",
    "            for (test, var) in zip(ttests, intersect(string.(degreevars), varnames)) ]\n",
    "        ]\n",
    "    \n",
    "    outdf = DataFrame(\n",
    "        variables = variables,\n",
    "        ST = map(variables) do var\n",
    "            if var ∈ degreevars\n",
    "                return Printf.format(Printf.Format(\"%.1f ± %.1f\"), circmeand(st[!,var] |> skipmissing), circstdd(st[!,var] |> skipmissing))\n",
    "            else\n",
    "                return Printf.format(Printf.Format(\"%.1f ± %.1f\"), mean(st[!,var] |> skipmissing), std(st[!,var] |> skipmissing))\n",
    "            end\n",
    "        end,\n",
    "        DT = map(variables) do var\n",
    "            if var ∈ degreevars\n",
    "                return Printf.format(Printf.Format(\"%.1f ± %.1f\"), circmeand(dt[!,var] |> skipmissing), circstdd(dt[!,var] |> skipmissing))\n",
    "            else\n",
    "                return Printf.format(Printf.Format(\"%.1f ± %.1f\"), mean(dt[!,var] |> skipmissing), std(dt[!,var] |> skipmissing))\n",
    "            end\n",
    "        end,\n",
    "        meandiff = round.(getfield.(ttests, :xbar); sigdigits=3),\n",
    "        low_ci = round.(first.(confint.(ttests)); digits=1),\n",
    "        upper_ci = round.(last.(confint.(ttests)); digits=1),\n",
    "        t = Printf.format.(Ref(Printf.Format(\"t(%d)=%.2f\")), getfield.(ttests, :df), getfield.(ttests, :t)),\n",
    "        pvalue = clamp.(round.(pvalue.(ttests); digits=3), .001, 1),\n",
    "        Gav = Printf.format.(Ref(Printf.Format(\"%.2f\")), Gavs),\n",
    "        CohensDz = Printf.format.(Ref(Printf.Format(\"%.2f\")), CohensDz.(ttests)),\n",
    "    )\n",
    "\n",
    "    order = [ \"la_shoulder_rom\", \"ma_shoulder_rom\", \"la_shoulder_rom_cov\", \"ma_shoulder_rom_cov\",\n",
    "        \"la_shoulder_peak_flex\", \"ma_shoulder_peak_flex\", \"la_hip_rom\", \"ma_hip_rom\",\n",
    "        \"la_hip_rom_cov\", \"ma_hip_rom_cov\", \"la_hip_peak_flex\", \"ma_hip_peak_flex\", \"pci\",\n",
    "        \"shoulder_inter_meansd\", \"hip_inter_meansd\", \"la_ipsi_meansd\", \"ma_ipsi_meansd\",\n",
    "        \"la_ulimb_intra_meansd\", \"ma_ulimb_intra_meansd\", \"la_llimb_intra_meansd\",\n",
    "        \"ma_llimb_intra_meansd\" ]\n",
    "    sort!(outdf, :variables; by=(x-> something(findfirst(==(x), order), 100)))\n",
    "    \n",
    "    outdf\n",
    "end"
   ]
  },
  {
   "cell_type": "code",
   "execution_count": null,
   "metadata": {
    "tags": []
   },
   "outputs": [],
   "source": [
    "tt_results = ttest_table(widedf)\n",
    "pretty_table(tt_results; backend=Val(:html), highlighters=(HTMLHighlighter((d,i,j) -> (j ∈ (8,)) && (d[i,j] ≤ .05), HTMLDecoration(font_weight = \"bold\")),))"
   ]
  },
  {
   "cell_type": "code",
   "execution_count": null,
   "metadata": {},
   "outputs": [],
   "source": [
    "CSV.write(\"../results/ttests.csv\", tt_results)"
   ]
  },
  {
   "cell_type": "markdown",
   "metadata": {},
   "source": [
    "## Additional analysis"
   ]
  },
  {
   "cell_type": "code",
   "execution_count": null,
   "metadata": {
    "tags": []
   },
   "outputs": [],
   "source": [
    "st1 = DataFrames.stack(widedf, Not([:subject, :task, :ma_side, :gait_speed]));"
   ]
  },
  {
   "cell_type": "code",
   "execution_count": null,
   "metadata": {
    "tags": []
   },
   "outputs": [],
   "source": [
    "long_split = DataFrames.unstack(@subset(select(st1, Not(:gait_speed)), occursin.(Ref(r\"^[ml]a\"), :variable) .& .!occursin.(Ref(r\"phase$\"), :variable)), :task, :value);"
   ]
  },
  {
   "cell_type": "code",
   "execution_count": null,
   "metadata": {
    "tags": []
   },
   "outputs": [],
   "source": [
    "includet(\"../src/tost.jl\")"
   ]
  },
  {
   "cell_type": "code",
   "execution_count": null,
   "metadata": {
    "tags": []
   },
   "outputs": [],
   "source": [
    "CohensDz(x::TwoOneSidedTTest) = CohensDz(x.main)"
   ]
  },
  {
   "cell_type": "markdown",
   "metadata": {
    "tags": []
   },
   "source": [
    "### Equivalence bounds: standardized effect estimation"
   ]
  },
  {
   "cell_type": "code",
   "execution_count": null,
   "metadata": {
    "tags": []
   },
   "outputs": [],
   "source": [
    "using Distributions"
   ]
  },
  {
   "cell_type": "markdown",
   "metadata": {
    "tags": []
   },
   "source": [
    "#### Plate et al. (2015)\n",
    "\n",
    "Using the results of Plate et al. (2015) to estimate unstandardized effects of DT on bilateral differences in DTC for shoulder ROM. \n",
    "\n",
    "Plate, A., Sedunko, D., Pelykh, O., Schlick, C., Ilmberger, J. R., & Bötzel, K. (2015). Normative data for arm swing asymmetry: How (a)symmetrical are we? Gait & Posture, 41(1), 13–18. https://doi.org/10.1016/j.gaitpost.2014.07.011"
   ]
  },
  {
   "cell_type": "code",
   "execution_count": null,
   "metadata": {
    "tags": []
   },
   "outputs": [],
   "source": [
    "# Plate 2015\n",
    "\n",
    "# 3 km/h\n",
    "ρ = 0.6\n",
    "st_3 = MvNormal([22.6,19.8], [7.5^2; ρ*(7.5*11.4);; ρ*(7.5*11.4); 11.4^2])\n",
    "\n",
    "let x = clamp.(rand(st_3, 1000000), 2.5, 70)\n",
    "    @show mean(x[1,:]), std(x[1,:])\n",
    "    @show mean(x[2,:]), std(x[2,:])\n",
    "    asym = map(x -> (x[1]-x[2])/max(x[1],x[2])*100, eachcol(x))\n",
    "    @show mean(asym), std(asym)\n",
    "    nothing\n",
    "end"
   ]
  },
  {
   "cell_type": "code",
   "execution_count": null,
   "metadata": {
    "tags": []
   },
   "outputs": [],
   "source": [
    "# 4 km/h\n",
    "ρ = 0.6\n",
    "st_4 = MvNormal([26.2,25.0], [7.9^2; ρ*(7.9*12.3);; ρ*(7.9*12.3); 12.3^2])\n",
    "\n",
    "let x = clamp.(rand(st_4, 1000000), 2.5, 70)\n",
    "    @show mean(x[1,:]), std(x[1,:])\n",
    "    @show mean(x[2,:]), std(x[2,:])\n",
    "    asym = map(x -> (x[1]-x[2])/max(x[1],x[2])*100, eachcol(x))\n",
    "    @show mean(asym), std(asym)\n",
    "    nothing\n",
    "end"
   ]
  },
  {
   "cell_type": "code",
   "execution_count": null,
   "metadata": {
    "tags": []
   },
   "outputs": [],
   "source": [
    "# Stroop @ 3.4 km/h\n",
    "ρ = 0.6\n",
    "dt1 = MvNormal([26.1,20.0], [9.4^2; ρ*(9.4*11.2);; ρ*(9.4*11.2); 11.2^2])\n",
    "\n",
    "let x = clamp.(rand(dt1, 1000000), 2.5, 70)\n",
    "    @show mean(x[1,:]), std(x[1,:])\n",
    "    @show mean(x[2,:]), std(x[2,:])\n",
    "    asym = map(x -> (x[1]-x[2])/max(x[1],x[2])*100, eachcol(x))\n",
    "    @show mean(asym), std(asym)\n",
    "    nothing\n",
    "end"
   ]
  },
  {
   "cell_type": "code",
   "execution_count": null,
   "metadata": {
    "tags": []
   },
   "outputs": [],
   "source": [
    "# Counting backwards @ 3.4 km/h\n",
    "ρ = 0.6\n",
    "dt2 = MvNormal([28.2,26.0], [7.3^2; ρ*(7.3*12.4);; ρ*(7.3*12.4); 12.4^2])\n",
    "\n",
    "let x = clamp.(rand(dt2, 1000000), 2.5, 70)\n",
    "    @show mean(x[1,:]), std(x[1,:])\n",
    "    @show mean(x[2,:]), std(x[2,:])\n",
    "    asym = map(x -> (x[1]-x[2])/max(x[1],x[2])*100, eachcol(x))\n",
    "    @show mean(asym), std(asym)\n",
    "    nothing\n",
    "end"
   ]
  },
  {
   "cell_type": "code",
   "execution_count": null,
   "metadata": {
    "tags": []
   },
   "outputs": [],
   "source": [
    "st_3_vals = clamp.(rand(st_3, 1000000), 2.5, 70)\n",
    "st_4_vals = clamp.(rand(st_4, 1000000), 2.5, 70)\n",
    "dt1_vals = clamp.(rand(dt1, 1000000), 2.5, 70)\n",
    "dt2_vals = clamp.(rand(dt2, 1000000), 2.5, 70);"
   ]
  },
  {
   "cell_type": "code",
   "execution_count": null,
   "metadata": {
    "tags": []
   },
   "outputs": [],
   "source": [
    "for (st, dt) in ((st_3_vals, dt1_vals), (st_3_vals, dt2_vals), (st_4_vals, dt1_vals), (st_4_vals, dt2_vals))\n",
    "    didtc = map((st, dt) -> (dt[1]-st[1]) - (dt[2]-st[2]), eachcol(st), eachcol(dt))\n",
    "    @show mean(didtc), std(didtc)\n",
    "end"
   ]
  },
  {
   "cell_type": "code",
   "execution_count": null,
   "metadata": {
    "tags": []
   },
   "outputs": [],
   "source": [
    "println(\"Largest raw effect: `4.7°`, Cohen's d: `$(4.7/13)`\")"
   ]
  },
  {
   "cell_type": "markdown",
   "metadata": {
    "tags": []
   },
   "source": [
    "#### Killeen et al. (2018)\n",
    "\n",
    "Using the results of Killeen et al. (2018) to estimate largest non-pathological unstandardized effects of DT on bilateral differences in DTC for shoulder ROM. Means and SD estimated from paper figures using a [figure digitizer](https://apps.automeris.io/wpd/).\n",
    "\n",
    "Killeen, T., Elshehabi, M., Filli, L., Hobert, M. A., Hansen, C., Rieger, D., Brockmann, K., Nussbaum, S., Zörner, B., Bolliger, M., Curt, A., Berg, D., & Maetzler, W. (2018). Arm swing asymmetry in overground walking. Scientific Reports, 8(1), 12803. https://doi.org/10.1038/s41598-018-31151-9"
   ]
  },
  {
   "cell_type": "code",
   "execution_count": null,
   "metadata": {
    "tags": []
   },
   "outputs": [],
   "source": [
    "using Random"
   ]
  },
  {
   "cell_type": "code",
   "execution_count": null,
   "metadata": {
    "tags": []
   },
   "outputs": [],
   "source": [
    "dasi = truncated(MixtureModel([Normal(-25,20), Normal(42, 20)], [5/16, 11/16]), -75, 90)\n",
    "dt_dasi = truncated(MixtureModel([Normal(-25+4.7,20), Normal(42-4.7, 20)], [5/16, 11/16]), -75, 90)"
   ]
  },
  {
   "cell_type": "code",
   "execution_count": null,
   "metadata": {},
   "outputs": [],
   "source": [
    "for i in axes(roms, 2)\n",
    "   roms[:,i] .= inv(Vag92)(vals[i], rand(ldist))\n",
    "end"
   ]
  },
  {
   "cell_type": "code",
   "execution_count": null,
   "metadata": {
    "tags": []
   },
   "outputs": [],
   "source": [
    "y .= rand(dasi, 10_000)\n",
    "PlotlyJS.plot(PlotlyJS.histogram(;x=y, histnorm=\"probability density\"), Layout(;xaxis_range=[-100,100]))"
   ]
  },
  {
   "cell_type": "markdown",
   "metadata": {},
   "source": [
    "(increase number of samples to get better/smoother histogram if desired)"
   ]
  },
  {
   "cell_type": "code",
   "execution_count": null,
   "metadata": {
    "tags": []
   },
   "outputs": [],
   "source": [
    "# Normal walking\n",
    "ρ = 0.65\n",
    "kill_normwalk = MvNormal([32.3,22.8], [18.4^2; ρ*(18.4*12.9);; ρ*(18.4*12.9); 12.9^2])\n",
    "\n",
    "let x = clamp.(rand(kill_normwalk, 10000), 2.5, 85)\n",
    "    @show mean(x[1,:]), std(x[1,:])\n",
    "    @show mean(x[2,:]), std(x[2,:])\n",
    "    asym = map(x -> (x[1]-x[2])/max(x[1],x[2])*100, eachcol(x))\n",
    "    @show mean(asym), std(asym)\n",
    "    PlotlyJS.plot(PlotlyJS.histogram(;x=asym, nbinsx=100, histnorm=\"probability density\"), Layout(;xaxis_range=[-100,100]))\n",
    "    # nothing\n",
    "end"
   ]
  },
  {
   "cell_type": "code",
   "execution_count": null,
   "metadata": {
    "tags": []
   },
   "outputs": [],
   "source": [
    "# Fast walking\n",
    "ρ = 0.55\n",
    "kill_fastwalk = MvNormal([35.7,22.9], [19.3^2; ρ*(19.3*15);; ρ*(19.3*15); 15^2])\n",
    "\n",
    "let x = clamp.(rand(kill_fastwalk, 10000), 5, 85)\n",
    "    @show mean(x[1,:]), std(x[1,:])\n",
    "    @show mean(x[2,:]), std(x[2,:])\n",
    "    asym = map(x -> (x[1]-x[2])/max(x[1],x[2])*100, eachcol(x))\n",
    "    @show mean(asym), std(asym)\n",
    "    PlotlyJS.plot(PlotlyJS.histogram(;x=asym, nbinsx=100, histnorm=\"probability density\"), Layout(;xaxis_range=[-100,100]))\n",
    "    # nothing\n",
    "end"
   ]
  },
  {
   "cell_type": "code",
   "execution_count": null,
   "metadata": {
    "tags": []
   },
   "outputs": [],
   "source": [
    "# Fast walking\n",
    "ρ = 0.4\n",
    "kill_dtwalk = MvNormal([33.3,24.3], [19.6^2; ρ*(19.6*15.1);; ρ*(19.6*15.1); 15.1^2])\n",
    "\n",
    "let x = clamp.(rand(kill_dtwalk, 10000), 5, 85)\n",
    "    @show mean(x[1,:]), std(x[1,:])\n",
    "    @show mean(x[2,:]), std(x[2,:])\n",
    "    asym = map(x -> (x[1]-x[2])/max(x[1],x[2])*100, eachcol(x))\n",
    "    @show mean(asym), std(asym)\n",
    "    PlotlyJS.plot(PlotlyJS.histogram(;x=asym, nbinsx=100, histnorm=\"probability density\"), Layout(;xaxis_range=[-100,100]))\n",
    "    # nothing\n",
    "end"
   ]
  },
  {
   "cell_type": "code",
   "execution_count": null,
   "metadata": {
    "tags": []
   },
   "outputs": [],
   "source": [
    "kill_nw_vals = clamp.(rand(kill_normwalk, 1000000), 5, 80)\n",
    "kill_fw_vals = clamp.(rand(kill_fastwalk, 1000000), 5, 80)\n",
    "kill_dt_vals = clamp.(rand(kill_dtwalk, 1000000), 5, 80);"
   ]
  },
  {
   "cell_type": "code",
   "execution_count": null,
   "metadata": {
    "tags": []
   },
   "outputs": [],
   "source": [
    "for (st, dt) in ((kill_nw_vals, kill_dt_vals), (kill_fw_vals, kill_dt_vals))\n",
    "    didtc = map((st, dt) -> (dt[1]-st[1]) - (dt[2]-st[2]), eachcol(st), eachcol(dt))\n",
    "    @show mean(didtc), std(didtc)\n",
    "end"
   ]
  },
  {
   "cell_type": "markdown",
   "metadata": {
    "jp-MarkdownHeadingCollapsed": true,
    "tags": []
   },
   "source": [
    "#### Riberio et al. (2019)\n",
    "\n",
    "Using the results of Riberio et al. (2019) to estimate unstandardized effects of bilateral differences in DTC for hip ROM. Although this study was in PD, the dichotomization by left/right, instead of MA/LA sides, should be insensitive to any possible effects of MA/LA side, as there is no population level correlation between more affected side and left/right or dominant/non-dominant dichotomizations.\n",
    "\n",
    "Ribeiro, T. S., Sousa, A. C. de, Lucena, L. C. de, Santiago, L. M. M., & Lindquist, A. R. R. (2019). Does dual task walking affect gait symmetry in individuals with Parkinson’s disease? European Journal of Physiotherapy, 21(1), 8–14. https://doi.org/10.1080/21679169.2018.1444086"
   ]
  },
  {
   "cell_type": "code",
   "execution_count": null,
   "metadata": {
    "tags": []
   },
   "outputs": [],
   "source": [
    "(38.59-40.89)-(37.15-39.93)"
   ]
  },
  {
   "cell_type": "markdown",
   "metadata": {
    "jp-MarkdownHeadingCollapsed": true,
    "tags": []
   },
   "source": [
    "#### Mirelman et al. (2016)\n",
    "\n",
    "Using the results of Mirelman et al. (2016) to estimate unstandardized effects of DT on bilateral differences in DTC for shoulder ROM CoV.\n",
    "\n",
    "Byrne, J. E., Stergiou, N., Blanke, D., Houser, J. J., Kurz, M. J., & Hageman, P. A. (2002). Comparison of Gait Patterns between Young and Elderly Women: An Examination of Coordination. Perceptual and Motor Skills, 94(1), 265–280. https://doi.org/10.2466/pms.2002.94.1.265"
   ]
  },
  {
   "cell_type": "code",
   "execution_count": null,
   "metadata": {
    "tags": []
   },
   "outputs": [],
   "source": [
    "(20.47-17.54)*2 # Theoretical largest change if intralimb coordination only changed on one side"
   ]
  },
  {
   "cell_type": "markdown",
   "metadata": {
    "jp-MarkdownHeadingCollapsed": true,
    "tags": []
   },
   "source": [
    "#### Byrne et al. (2002)\n",
    "\n",
    "Using the results of Byrne et al. (2002) to estimate unstandardized effects of DT on bilateral differences in DTC for intralimb coordination.\n",
    "\n",
    "Byrne, J. E., Stergiou, N., Blanke, D., Houser, J. J., Kurz, M. J., & Hageman, P. A. (2002). Comparison of Gait Patterns between Young and Elderly Women: An Examination of Coordination. Perceptual and Motor Skills, 94(1), 265–280. https://doi.org/10.2466/pms.2002.94.1.265"
   ]
  },
  {
   "cell_type": "code",
   "execution_count": null,
   "metadata": {
    "tags": []
   },
   "outputs": [],
   "source": [
    "pooledvar(sd1, sd2) = √((sd1^2+sd2^2)/2)"
   ]
  },
  {
   "cell_type": "code",
   "execution_count": null,
   "metadata": {
    "tags": []
   },
   "outputs": [],
   "source": [
    "# Difference in elderly women shank-thigh CRP meanSD between normal walking and unilaterally applied ankle weight\n",
    "(6.58-5.49)/pooledvar(1.51,2.23) # (standardized, eg Cohen's d)"
   ]
  },
  {
   "cell_type": "code",
   "execution_count": null,
   "metadata": {
    "tags": []
   },
   "outputs": [],
   "source": [
    "(6.58-5.49)*2 # Theoretical largest change if intralimb coordination only changed on one side"
   ]
  },
  {
   "cell_type": "markdown",
   "metadata": {
    "jp-MarkdownHeadingCollapsed": true,
    "tags": []
   },
   "source": [
    "#### Ghanavati et al. (2014)\n",
    "\n",
    "Using the results of Ghanavati et al. (2014) to estimate unstandardized effects of DT on bilateral differences in DTC for lower-limb intralimb coordination. Means and SD estimated from Fig. 2A using the earlier linked figure ditizer.\n",
    "\n",
    "Ghanavati, T., Salavati, M., Karimi, N., Negahban, H., Ebrahimi Takamjani, I., Mehravar, M., & Hessam, M. (2014). Intra-limb coordination while walking is affected by cognitive load and walking speed. Journal of Biomechanics, 47(10), 2300–2305. https://doi.org/10.1016/j.jbiomech.2014.04.038"
   ]
  },
  {
   "cell_type": "code",
   "execution_count": null,
   "metadata": {
    "tags": []
   },
   "outputs": [],
   "source": [
    "ghan_df = DataFrame(\n",
    "    segment = [\"SF_L\"; \"SF_R\"; \"TS_L\"; \"TS_R\"; \"PT_L\"; \"PT_R\"],\n",
    "    complex_mean = [3.77, 3.91, 5.81, 6.19, 9.3, 9.6],\n",
    "    complex_sd = [.18, .15, .23, .27, .59, .59],\n",
    "    simple_mean = [ 3.87, 4.1, 6.1, 6.4, 10.0, 10.5 ],\n",
    "    simple_sd = [ .15, .15, .25, .28, .63, .66],\n",
    "    singletask_mean = [ 4.06, 4.21, 6.31, 6.67, 10.3, 9.95],\n",
    "    singletask_sd = [ .17, .18, .29, .24, .52, .50])"
   ]
  },
  {
   "cell_type": "code",
   "execution_count": null,
   "metadata": {
    "tags": []
   },
   "outputs": [],
   "source": [
    "unstack(DataFrames.stack(ghan_df, Not(:segment)), :segment, :value)"
   ]
  },
  {
   "cell_type": "code",
   "execution_count": null,
   "metadata": {
    "tags": []
   },
   "outputs": [],
   "source": [
    "df2 = @chain unstack(DataFrames.stack(ghan_df, Not(:segment)), :segment, :value) begin\n",
    "    @subset(occursin.(r\"mean$\", :variable))\n",
    "    @select(:variable, :sf_diff = :SF_L - :SF_R, :ts_diff = :TS_L - :TS_R, :pt_diff = :PT_L - :PT_R)\n",
    "end"
   ]
  },
  {
   "cell_type": "code",
   "execution_count": null,
   "metadata": {
    "tags": []
   },
   "outputs": [],
   "source": [
    "df2[2,:ts_diff] .- df2[3,:ts_diff]"
   ]
  },
  {
   "cell_type": "code",
   "execution_count": null,
   "metadata": {
    "tags": []
   },
   "outputs": [],
   "source": [
    "df2[2,:pt_diff] .- df2[3,:pt_diff]"
   ]
  },
  {
   "cell_type": "code",
   "execution_count": null,
   "metadata": {
    "tags": []
   },
   "outputs": [],
   "source": [
    "sum(abs2, DataFrames.stack(@subset(ghan_df, occursin.(r\"^TS\", :segment))[!,[:simple_sd, :singletask_sd]])[!,:value])"
   ]
  },
  {
   "cell_type": "code",
   "execution_count": null,
   "metadata": {
    "tags": []
   },
   "outputs": [],
   "source": [
    "(df2[2,:pt_diff] .- df2[3,:pt_diff])/√(sum(abs2, DataFrames.stack(@subset(ghan_df, occursin.(r\"^PT\", :segment))[!,[:simple_sd, :singletask_sd]])[!,:value])/4)"
   ]
  },
  {
   "cell_type": "markdown",
   "metadata": {},
   "source": [
    "Above is a ridiculously large effect"
   ]
  },
  {
   "cell_type": "code",
   "execution_count": null,
   "metadata": {
    "tags": []
   },
   "outputs": [],
   "source": [
    "(df2[2,:ts_diff] .- df2[3,:ts_diff])/√(sum(abs2, DataFrames.stack(@subset(ghan_df, occursin.(r\"^TS\", :segment))[!,[:simple_sd, :singletask_sd]])[!,:value])/4)"
   ]
  },
  {
   "cell_type": "markdown",
   "metadata": {
    "tags": []
   },
   "source": [
    "### Tests"
   ]
  },
  {
   "cell_type": "code",
   "execution_count": null,
   "metadata": {
    "tags": []
   },
   "outputs": [],
   "source": [
    "df = @chain long_split begin\n",
    "    @subset(contains.(:variable, r\"^[ml]a(?!_contra)\"))\n",
    "    @transform(:dtc = :dual .- :single)\n",
    "    @orderby(:subject, :variable)\n",
    "end;"
   ]
  },
  {
   "cell_type": "code",
   "execution_count": null,
   "metadata": {
    "tags": []
   },
   "outputs": [],
   "source": [
    "ndf = disallowmissing(sort(unstack(df, :subject, :variable, :dtc; renamecols=(x -> string(x, \"_dtc\"))), :subject); error=false);"
   ]
  },
  {
   "cell_type": "code",
   "execution_count": null,
   "metadata": {
    "tags": []
   },
   "outputs": [],
   "source": [
    "CSV.write(\"../results/dtc.csv\", ndf)"
   ]
  },
  {
   "cell_type": "code",
   "execution_count": null,
   "metadata": {
    "tags": []
   },
   "outputs": [],
   "source": [
    "function tosttest_table(df)\n",
    "    variables = unique(replace.(names(df, Not(:subject)), r\"^[ml]a_\" => \"\"))\n",
    "    _tosts = Dict(\n",
    "        \"hip_rom_dtc\" => TwoOneSidedTTest(df[:, :la_hip_rom_dtc], df[:, :ma_hip_rom_dtc], .5),\n",
    "        \"hip_peak_flex_dtc\" => TwoOneSidedTTest(df[:, :la_hip_peak_flex_dtc], df[:, :ma_hip_peak_flex_dtc], .5),\n",
    "        \"hip_rom_cov_dtc\" => TwoOneSidedTTest(df[:, :la_hip_rom_cov_dtc], df[:, :ma_hip_rom_cov_dtc], d=.36),\n",
    "        \"shoulder_rom_dtc\" => TwoOneSidedTTest(df[:, :la_shoulder_rom_dtc], df[:, :ma_shoulder_rom_dtc], 3.5),\n",
    "        \"shoulder_peak_flex_dtc\" => TwoOneSidedTTest(df[:, :la_shoulder_peak_flex_dtc], df[:, :ma_shoulder_peak_flex_dtc], 3.5),\n",
    "        \"shoulder_rom_cov_dtc\" => TwoOneSidedTTest(df[:, :la_shoulder_rom_cov_dtc], df[:, :ma_shoulder_rom_cov_dtc], 6),\n",
    "        \"ipsi_meansd_dtc\" => TwoOneSidedTTest(dropmissingpairs(df[:, :la_ipsi_meansd_dtc], df[:, :ma_ipsi_meansd_dtc])..., d=.36),\n",
    "        \"ulimb_intra_meansd_dtc\" => TwoOneSidedTTest(dropmissingpairs(df[:, :la_ulimb_intra_meansd_dtc], df[:, :ma_ulimb_intra_meansd_dtc])..., d=.36),\n",
    "        \"llimb_intra_meansd_dtc\" => TwoOneSidedTTest(dropmissingpairs(df[:, :la_llimb_intra_meansd_dtc], df[:, :ma_llimb_intra_meansd_dtc])..., 0.85),\n",
    "    )\n",
    "    tosts = [ _tosts[var] for var in variables ]\n",
    "\n",
    "    split_and_count(x) = (std.(x)..., length(x[1]))\n",
    "    Gav = [ CohensDₐᵥ(getproperty(test, :xbar), split_and_count(dropmissingpairs(df[!, \"la_\"*var], df[!, \"ma_\"*var]))...) for (test, var) in zip(tosts, variables) ] \n",
    "    \n",
    "    mean_and_std(x) = (mean(x), std(x))\n",
    "    outdf = DataFrame(\n",
    "        variables = variables,\n",
    "        LA = map(variables) do var\n",
    "            return Printf.format(Printf.Format(\"%.2g ± %.2g\"), mean_and_std(dropmissingpairs(df[!, \"la_\"*var], df[!, \"ma_\"*var])[1])...)\n",
    "        end,\n",
    "        MA = map(variables) do var\n",
    "            return Printf.format(Printf.Format(\"%.2g ± %.2g\"), mean_and_std(dropmissingpairs(df[!, \"la_\"*var], df[!, \"ma_\"*var])[2])...)\n",
    "        end,\n",
    "        meandiff = round.(getproperty.(tosts, :xbar); sigdigits=3),\n",
    "        low_ci = round.(first.(confint.(tosts)); sigdigits=2),\n",
    "        upper_ci = round.(last.(confint.(tosts)); sigdigits=2),\n",
    "        t = Printf.format.(Ref(Printf.Format(\"t(%d)=%.2f\")), getproperty.(tosts, :df), getproperty.(tosts, :t)),\n",
    "        pvalue = clamp.(round.(pvalue.(tosts); digits=3), .001, 1),\n",
    "        tost_pvalue = clamp.(round.(tost_pvalue.(tosts); digits=3), .001, 1),\n",
    "        Gav = Printf.format.(Ref(Printf.Format(\"%.2f\")), Gav),\n",
    "        CohensDz = Printf.format.(Ref(Printf.Format(\"%.2f\")), CohensDz.(tosts))\n",
    "    )\n",
    " \n",
    "    order = [ \"shoulder_rom_dtc\", \"shoulder_rom_cov_dtc\", \"shoulder_peak_flex_dtc\", \"hip_rom_dtc\",\n",
    "        \"hip_rom_cov_dtc\", \"hip_peak_flex_dtc\", \"ipsi_meansd_dtc\", \"ulimb_intra_meansd_dtc\",\n",
    "        \"llimb_intra_meansd_dtc\" ]\n",
    "    sort!(outdf, :variables; by=(x-> something(findfirst(==(x), order), 100)))\n",
    "    \n",
    "    outdf\n",
    "end"
   ]
  },
  {
   "cell_type": "code",
   "execution_count": null,
   "metadata": {
    "tags": []
   },
   "outputs": [],
   "source": [
    "tt_results = tosttest_table(ndf)\n",
    "pretty_table(tt_results; backend=Val(:html), highlighters=(HTMLHighlighter((d,i,j) -> (j ∈ (8,9)) && (d[i,j] ≤ .05), HTMLDecoration(font_weight = \"bold\")),))"
   ]
  },
  {
   "cell_type": "code",
   "execution_count": null,
   "metadata": {},
   "outputs": [],
   "source": []
  }
 ],
 "metadata": {
  "@webio": {
   "lastCommId": "d21e4502-0e91-4987-9549-79888c7f8190",
   "lastKernelId": "25f3ac57-cca1-43e8-87e2-da20c96250db"
  },
  "kernelspec": {
   "display_name": "Julia (SYSIMAGE) 1.9.3",
   "language": "julia",
   "name": "julia-sysimage-1.9"
  },
  "language_info": {
   "file_extension": ".jl",
   "mimetype": "application/julia",
   "name": "julia",
   "version": "1.9.3"
  },
  "toc-showtags": false
 },
 "nbformat": 4,
 "nbformat_minor": 4
}
