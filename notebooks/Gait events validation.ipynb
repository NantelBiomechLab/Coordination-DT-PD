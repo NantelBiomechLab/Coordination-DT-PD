{
 "cells": [
  {
   "cell_type": "code",
   "execution_count": null,
   "metadata": {},
   "outputs": [],
   "source": [
    "using DatasetManager, LabDataSources, C3D, DataFrames, ParkinsonsDualTaskCoordination, Statistics, Peaks, Biomechanics, PlotlyJS, HypothesisTests"
   ]
  },
  {
   "cell_type": "code",
   "execution_count": null,
   "metadata": {},
   "outputs": [],
   "source": [
    "rootdir = # REDACTED\n",
    "\n",
    "rawpath = joinpath(rootdir, \"data\", \"parkinsons\", \"raw\")\n",
    "\n",
    "subsets = [\n",
    "    DataSubset(\"c3d\", Source{C3DFile}, joinpath(rawpath, \"PD_ARMS_STAB\"), \"Subject */_/*.c3d\"),\n",
    "    DataSubset(\"events\", V3DEventsSource, joinpath(rawpath, \"events\"), \"subject-[0-9]*/*.tsv\")\n",
    "]\n",
    "labels = Dict(:arms => [ [\"NONE\", \"NA\"] => \"held\", [\"AS\", \"Norm\", \"NORM\", \"normal\"] => \"norm\"],\n",
    "                 :kind => [ [\"(?<=NONE|NORM|held|norm)S\", \"BA\", \"single(?!task)\"] => \"singletask\", [\"(?<=NONE|NORM|norm|held)C\", \"CO\", \"CP\", \"dual(?!task)\"] => \"dualtask\",\n",
    "                           \"PO\" => \"pert\", [\"PARK\", \"(?<=_)TR(?=_)\"] => \"park\" ],\n",
    "                 :pert_side => [ [\"[Rr](?=[ST]|(?i:slip|trip))\", \"RIGHT\"] => \"right\", [\"[Ll](?=[ST]|(?i:slip|trip))\", \"LEFT\"] => \"left\"],\n",
    "                 :pert_type => [\"NP\" => \"steadystate\", \"(?i:(?<=[RL]|right|left))T\" => \"trip\", \"(?i:(?<=[RL]|right|left))S\" => \"slip\"])\n",
    "conds = TrialConditions((:arms,:kind,:pert_side,:pert_type), labels; required=(:arms,:kind),\n",
    "    subject_fmt=r\"(?<=Subject |N|subject-)(?<subject>\\d+)\",\n",
    "    defaults=Dict(:pert_type => \"steadystate\", :pert_side => \"NA\"))\n",
    "\n",
    "# Read all perturbations\n",
    "trials = findtrials(subsets, conds;\n",
    "     ignorefiles = [\n",
    "        joinpath(rawpath, \"PD_ARMS_STAB\", \"Subject 08/_/held_single_ltrip.c3d\"),\n",
    "    ])\n",
    "filter!(trials) do trial\n",
    "    hassource(trial, \"events\")\n",
    "end\n",
    "summarize(trials)"
   ]
  },
  {
   "cell_type": "code",
   "execution_count": null,
   "metadata": {},
   "outputs": [],
   "source": [
    "function evaluatepredictions(alg, trial)\n",
    "    seg = Segment(trial, \"events\")\n",
    "    segr = SegmentResult(seg)\n",
    "    res = results(segr)\n",
    "    \n",
    "    events = readsegment(seg)\n",
    "    pred = alg(trial)\n",
    "    @assert keys(pred) ⊆ keys(events)\n",
    "    \n",
    "    for event in keys(pred)\n",
    "        _, _, dists, missed = matchevents(pred[event], events[event])\n",
    "        res[event*\"_err\"] = dists\n",
    "        res[event*\"_miss\"] = missed\n",
    "        \n",
    "        ev_diff = diff(pred[event])\n",
    "        ev_qtl = quantile(ev_diff, [0.25,0.5,0.75])\n",
    "        res[event*\"_outlyr\"] = filter(>(ev_qtl[2]+ev_qtl[3]-ev_qtl[1])∘abs, ev_diff .- ev_qtl[2])\n",
    "    end\n",
    "    res[\"FC_err\"] = vcat(res[\"LFC_err\"], res[\"RFC_err\"])\n",
    "    res[\"FO_err\"] = vcat(res[\"LFO_err\"], res[\"RFO_err\"])\n",
    "    res[\"FC_miss\"] = vcat(res[\"LFC_miss\"], res[\"RFC_miss\"])\n",
    "    res[\"FO_miss\"] = vcat(res[\"LFO_miss\"], res[\"RFO_miss\"])\n",
    "    \n",
    "    return segr\n",
    "end"
   ]
  },
  {
   "cell_type": "code",
   "execution_count": null,
   "metadata": {},
   "outputs": [],
   "source": [
    "srs = analyzedataset(trials, V3DEventsSource) do trial\n",
    "    evaluatepredictions(ParkinsonsDualTaskCoordination.roerdink2008, trial)\n",
    "end;\n",
    "filter!(!isempty∘results, srs);"
   ]
  },
  {
   "cell_type": "code",
   "execution_count": null,
   "metadata": {},
   "outputs": [],
   "source": [
    "fc_errs = reduce(vcat, getindex.(results.(srs), \"FC_err\"))\n",
    "fo_errs = reduce(vcat, getindex.(results.(srs), \"FO_err\"));"
   ]
  },
  {
   "cell_type": "code",
   "execution_count": null,
   "metadata": {},
   "outputs": [],
   "source": [
    "plot([\n",
    "        histogram(;x=fc_errs, xbins_size=.01, histnorm=\"probability\", name=\"Heelstrike\"),\n",
    "        histogram(;x=fo_errs, xbins_size=.01, histnorm=\"probability\", name=\"Toe-off\"),\n",
    "    ],\n",
    "    Layout(;\n",
    "        xaxis_dtick=.01,\n",
    "        xaxis_range=[-.1,.1],\n",
    "        height=350,\n",
    "        width=800,\n",
    "); config=PlotConfig(;scrollZoom=false))"
   ]
  },
  {
   "cell_type": "code",
   "execution_count": null,
   "metadata": {},
   "outputs": [],
   "source": [
    "fc_test = OneSampleTTest(fc_errs)"
   ]
  },
  {
   "cell_type": "code",
   "execution_count": null,
   "metadata": {},
   "outputs": [],
   "source": [
    "fo_test = OneSampleTTest(fo_errs)"
   ]
  },
  {
   "cell_type": "code",
   "execution_count": null,
   "metadata": {},
   "outputs": [],
   "source": [
    "outliers = reduce(vcat, filter(!isempty, getindex.(results.(srs), \"LFO_outlyr\")))\n",
    "length(outliers), mean(outliers), extrema(outliers)"
   ]
  },
  {
   "cell_type": "code",
   "execution_count": null,
   "metadata": {},
   "outputs": [],
   "source": []
  }
 ],
 "metadata": {
  "@webio": {
   "lastCommId": "2e80a38d-b215-42f2-8071-1e3cbc8607ed",
   "lastKernelId": "55dee174-06fe-4874-a22e-05e6f99de55f"
  },
  "kernelspec": {
   "display_name": "Julia (SYSIMAGE) 1.9.3",
   "language": "julia",
   "name": "julia-sysimage-1.9"
  },
  "language_info": {
   "file_extension": ".jl",
   "mimetype": "application/julia",
   "name": "julia",
   "version": "1.9.3"
  }
 },
 "nbformat": 4,
 "nbformat_minor": 4
}
