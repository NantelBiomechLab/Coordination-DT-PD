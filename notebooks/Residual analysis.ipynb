{
 "cells": [
  {
   "cell_type": "markdown",
   "id": "28d9c02f",
   "metadata": {},
   "source": [
    "# Residual analysis"
   ]
  },
  {
   "cell_type": "code",
   "execution_count": null,
   "id": "b7d4260d",
   "metadata": {},
   "outputs": [],
   "source": [
    "using DatasetManager, LabDataSources, C3D, Biomechanics, DataFrames, Statistics, DSP, PlotlyJS, LinearAlgebra"
   ]
  },
  {
   "cell_type": "code",
   "execution_count": null,
   "id": "1d0fbf07",
   "metadata": {
    "tags": []
   },
   "outputs": [],
   "source": [
    "rootdir = # REDACTED\n",
    "rawpath = joinpath(rootdir, \"data\", \"parkinsons\", \"raw\", \"PD_ARMS_STAB\")\n",
    "genpath = joinpath(rootdir, \"data\", \"parkinsons\", \"generated\")\n",
    "\n",
    "subsets = [\n",
    "    DataSubset(\"c3d\", Source{C3DFile}, rawpath, \"Subject */_/*.c3d\"),\n",
    "];"
   ]
  },
  {
   "cell_type": "code",
   "execution_count": null,
   "id": "956f38cf",
   "metadata": {
    "tags": []
   },
   "outputs": [],
   "source": [
    "const markers = [\n",
    "    \"RUA3\", \"LTOE\", \"RASI\", \"XYPH\", \"RTH4\", \"RSK3\", \"LTH2\", \"LFAM\", \"RSHO\", \"C7\", \"T8\", \"LSHO\",\n",
    "    \"LWRR\", \"RTH3\", \"LUA1\", \"LFAL\", \"LSK3\", \"RFAM\", \"L5MT\", \"RSK1\", \"RSK4\", \"LPSI\", \"RTH1\",\n",
    "    \"RWRU\", \"LSK2\", \"LTH1\", \"RUA1\", \"RHEE\", \"RLHL\", \"LSK4\", \"RASI_2\", \"LSK1\", \"STRN\", \"LLHL\",\n",
    "    \"LASI_2\", \"RUA2\", \"RWRR\", \"LWRU\", \"LTH3\", \"RTOE\", \"LASI\", \"R5MT\", \"LTH4\", \"LUA2\", \"RFAL\",\n",
    "    \"LUA3\", \"RSK2\", \"RTH2\", \"LHEE\", \"RPSI\"\n",
    "];"
   ]
  },
  {
   "cell_type": "markdown",
   "id": "38908e9c",
   "metadata": {},
   "source": [
    "## Characterize RMS noise of platform mounted markers"
   ]
  },
  {
   "cell_type": "markdown",
   "id": "53c6ce36",
   "metadata": {},
   "source": [
    "Three fixed markers are placed on the CAREN 6DOF platform. Since the markers are not labeled in these c3d files,\n",
    "we use the heuristic that a motionless (i.e. platform mounted) marker exhibits a movement velocity less\n",
    "than 0.1 mm/sec for at least 2.5 sec. We then calculate the RMS noise of the\n",
    "matching markers. A limitation of this approach is that instability present in the platform will contribute\n",
    "noise to the marker noise estimate, and the resulting RMS noise will be an overestimate of the RMS\n",
    "noise of the motion capture markers. Therefore, we estimate the system noise from the static calibration trials when the participant is not moving."
   ]
  },
  {
   "cell_type": "code",
   "execution_count": null,
   "id": "64ea0db8",
   "metadata": {
    "jupyter": {
     "source_hidden": true
    },
    "tags": []
   },
   "outputs": [],
   "source": [
    "reftrials = let\n",
    "    labels = Dict(:kind => [ r\"[Ss]tatic[-_]?\\d*\"i, \"relaxed\"])\n",
    "    conds = TrialConditions((:kind,), labels; subject_fmt=r\"(?<=Subject )(?<subject>\\d+\\w?)\")\n",
    "\n",
    "    # Read all perturbations\n",
    "    trials = findtrials(subsets, conds)\n",
    "end\n",
    "summarize(reftrials)"
   ]
  },
  {
   "cell_type": "code",
   "execution_count": null,
   "id": "73c63cde",
   "metadata": {
    "jupyter": {
     "source_hidden": true
    },
    "tags": []
   },
   "outputs": [],
   "source": [
    "refsrs = analyzedataset(reftrials, Source{C3DFile}) do trial\n",
    "    seg = Segment(trial, \"c3d\")\n",
    "    src = readsegment(seg; strip_prefixes=true)\n",
    "    sr = SegmentResult(seg)\n",
    "    res = results(sr)\n",
    "    Fcs = collect(range(1.,30; length=250))\n",
    "    \n",
    "    foreach(filter(contains(r\"^\\*\"), keys(src.point))) do mkr\n",
    "        @views start = findfirst(!ismissing, src.point[mkr][:,1])\n",
    "        @views finish = something(findnext(ismissing, src.point[mkr][:,1], start), lastindex(src.point[mkr], 1)+1)-1\n",
    "        rg = start:finish\n",
    "        \n",
    "        if length(rg) > 250\n",
    "            bs = fill(Inf, 3)\n",
    "            as = zeros(3)\n",
    "            mkrdata = convert(Matrix{Float32}, src.point[mkr][rg,:])\n",
    "            for i in eachindex(bs)\n",
    "                as[i], bs[i] = Biomechanics._linreg(totimes(rg, 100), mkrdata[:,i])\n",
    "            end\n",
    "            if norm(bs) < .1\n",
    "                res[mkr] = Biomechanics.rmsd_simd(mkrdata, repeat(as', outer=length(rg)))\n",
    "#                 res[mkr*\"_slope\"] = norm(bs)\n",
    "#                 res[mkr*\"_len\"] = length(rg)\n",
    "            end\n",
    "        end\n",
    "    end\n",
    "    return sr\n",
    "end\n",
    "\n",
    "refdf = DatasetManager.stack(refsrs, [:kind])\n",
    "describe(refdf)"
   ]
  },
  {
   "cell_type": "code",
   "execution_count": null,
   "id": "a41cedca",
   "metadata": {
    "jupyter": {
     "source_hidden": true
    },
    "tags": []
   },
   "outputs": [],
   "source": [
    "plot(histogram(;x=refdf[!,:value], histnorm=\"probability\"),\n",
    "    Layout(;width=800, height=400, xaxis_title=\"RMS Noise (mm)\", yaxis_title=\"Probability\",\n",
    "        title=\"Histogram of RMS noise of stationary markers\"))"
   ]
  },
  {
   "cell_type": "markdown",
   "id": "2743aebf",
   "metadata": {},
   "source": [
    "Based on these results a baseline RMS noise of 0.5 is used for the succeeding residual analysis."
   ]
  },
  {
   "cell_type": "markdown",
   "id": "d2c4c65b",
   "metadata": {},
   "source": [
    "## Residual analysis of markers used in IK"
   ]
  },
  {
   "cell_type": "code",
   "execution_count": null,
   "id": "54a1b03a",
   "metadata": {
    "jupyter": {
     "source_hidden": true
    },
    "tags": []
   },
   "outputs": [],
   "source": [
    "labels = Dict(:arms => [ [\"NONE\", \"NA\"] => \"held\", [\"AS\", \"Norm\", \"NORM\", \"normal\"] => \"norm\"],\n",
    "                 :kind => [ [\"(?<=NONE|NORM|held|norm)S\", \"BA\", \"single(?!task)\"] => \"singletask\", [\"(?<=NONE|NORM|norm|held)C\", \"CO\", \"CP\", \"dual(?!task)\"] => \"dualtask\",\n",
    "                           \"PO\" => \"pert\", [\"PARK\", \"(?<=_)TR(?=_)\"] => \"park\"],\n",
    "                 :pert_side => [ [\"[Rr](?=[ST]|(?i:slip|trip))\", \"RIGHT\"] => \"right\", [\"[Ll](?=[ST]|(?i:slip|trip))\", \"LEFT\"] => \"left\"],\n",
    "                 :pert_type => [\"NP\" => \"steadystate\", \"(?i:(?<=[RL]|right|left))T\" => \"trip\", \"(?i:(?<=[RL]|right|left))S\" => \"slip\"])\n",
    "conds = TrialConditions((:arms,:kind,:pert_side,:pert_type), labels; required=(:arms,:kind,),\n",
    "    subject_fmt=r\"(?<=Subject |N|subject-)(?<subject>\\d+\\w?)\",\n",
    "    defaults=Dict(:pert_type => \"steadystate\", :pert_side => \"NA\"))\n",
    "\n",
    "# Read all perturbations\n",
    "trials = findtrials(subsets, conds;\n",
    "    ignorefiles = [\n",
    "        joinpath(rawpath, \"Subject 08/_/held_single_ltrip.c3d\"),\n",
    "    ])\n",
    "filter!(trials) do trial\n",
    "    subject(trial) ∉ (\"2\", \"06\") &&\n",
    "    conditions(trial)[:pert_type] == \"steadystate\" &&\n",
    "    conditions(trial)[:arms] == \"norm\" &&\n",
    "    conditions(trial)[:kind] ∈ (\"singletask\", \"dualtask\", \"static\", \"digitize\")\n",
    "end\n",
    "summarize(trials)"
   ]
  },
  {
   "cell_type": "code",
   "execution_count": null,
   "id": "24d36ff3",
   "metadata": {
    "tags": []
   },
   "outputs": [],
   "source": [
    "srs = analyzedataset(trials, Source{C3DFile}; show_errors=false) do trial\n",
    "    seg = Segment(trial, \"c3d\")\n",
    "    src = readsegment(seg)\n",
    "    sr = SegmentResult(seg)\n",
    "    res = results(sr)\n",
    "    Fcs = collect(range(1.,30; length=250))\n",
    "    \n",
    "    foreach(markers) do mkr\n",
    "        fc, _ = optfc(convert(Matrix{Float32}, src.point[mkr][15*100:(end-10*100), :]), Fcs; fs=100, rmsnoise=0.5)\n",
    "        if fc != 30\n",
    "            res[mkr] = fc\n",
    "        end\n",
    "    end\n",
    "    return sr\n",
    "end\n",
    "\n",
    "df = DatasetManager.stack(srs, conds)\n",
    "show(describe(unstack(df), :mean, :min, :median, :max); allrows=true)"
   ]
  },
  {
   "cell_type": "code",
   "execution_count": null,
   "id": "433aefc8-a8db-4592-b2fa-9445fbf50be7",
   "metadata": {},
   "outputs": [],
   "source": []
  }
 ],
 "metadata": {
  "@webio": {
   "lastCommId": "76b8c134-f351-4487-afe9-653743687636",
   "lastKernelId": "6d432627-194e-4f26-bad2-369d6fdbed37"
  },
  "kernelspec": {
   "display_name": "Julia 1.7.3",
   "language": "julia",
   "name": "julia-1.7"
  },
  "language_info": {
   "file_extension": ".jl",
   "mimetype": "application/julia",
   "name": "julia",
   "version": "1.7.3"
  }
 },
 "nbformat": 4,
 "nbformat_minor": 5
}
