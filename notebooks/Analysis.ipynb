{
 "cells": [
  {
   "cell_type": "code",
   "execution_count": null,
   "metadata": {},
   "outputs": [],
   "source": [
    "versioninfo()"
   ]
  },
  {
   "cell_type": "code",
   "execution_count": null,
   "metadata": {},
   "outputs": [],
   "source": [
    "using DatasetManager, LabDataSources, ParkinsonsDualTaskCoordination, C3D, DSP, DataFrames,\n",
    "    PlotlyJS, HypothesisTests, Biomechanics, Statistics, Printf, PrettyTables,\n",
    "    CategoricalArrays, CSV"
   ]
  },
  {
   "cell_type": "code",
   "execution_count": null,
   "metadata": {},
   "outputs": [],
   "source": [
    "rootdir = joinpath(pkgdir(ParkinsonsDualTaskCoordination), \"data\")\n",
    "\n",
    "rawpath = joinpath(rootdir, \"raw\")\n",
    "genpath = joinpath(rootdir, \"generated\")\n",
    "\n",
    "subsets = [\n",
    "    DataSubset(\"c3d\", Source{C3DFile}, joinpath(rawpath, \"c3d\"), \"S*.c3d\"),\n",
    "    DataSubset(\"ik\", OSimMotion, genpath, \"Subject */ik/*.mot.gz\"),\n",
    "    DataSubset(\"events\", V3DEventsSource, genpath, \"Subject */events/*.tsv\"),\n",
    "    DataSubset(\"dflow\", Source{RawDFlowPD}, joinpath(rawpath, \"dflow\"), \"S*.txt\"),\n",
    "]\n",
    "\n",
    "labels = Dict(\n",
    "    :subject => r\"(?<=S)\\d+B?\",\n",
    "    :task => r\"single|dual\"\n",
    ")\n",
    "conds = TrialConditions((:subject,:task), labels)\n",
    "\n",
    "trials = findtrials(subsets, conds)\n",
    "\n",
    "modelsubset = DataSubset(\"model\", Source{OSimModel}, joinpath(rawpath, \"models\"), \"S*.osim\"; dependent=true)\n",
    "conds = TrialConditions((:model,), Dict(:model => (r\".osim$\" => \"model\" => \"model\")); subject_fmt=r\"(?<=S)(?<subject>\\d+B?)\", required=(:subject,))\n",
    "findtrials!(trials, [modelsubset], conds)\n",
    "\n",
    "setfield!.(trials[findall(==(\"15B\")∘subject, trials)], :subject, \"15\")\n",
    "\n",
    "demog = CSV.read(\"../data/demographics.csv\", DataFrame)\n",
    "moreaffected_side = Dict(string.(demog[!,\"Participant ID\"]) .=> demog[!,\"More affected Side\"])\n",
    "addcondition!.(trials, :ma_side => t -> moreaffected_side[subject(t)])\n",
    "\n",
    "summarize(trials; ignoreconditions=[:ma_side])"
   ]
  },
  {
   "cell_type": "markdown",
   "metadata": {
    "jp-MarkdownHeadingCollapsed": true,
    "tags": []
   },
   "source": [
    "## Data exploration"
   ]
  },
  {
   "cell_type": "code",
   "execution_count": null,
   "metadata": {},
   "outputs": [],
   "source": [
    "# finish = conditions(trl)[:kind] == \"$1\" ? 80. : nothing\n",
    "# events = readsegment(Segment(trl, \"events\"; start=25.0, finish))\n",
    "# rfcidx = toindices(events[\"RFC\"], 100)\n",
    "\n",
    "# seg = Segment(trl, \"ik\"; start=25.0, finish)\n",
    "# jnts = readsegment(seg; series=[\"hip_flexion_r\", \"hip_flexion_l\",\n",
    "#     \"knee_angle_r\", \"knee_angle_l\", \"arm_flex_r\", \"arm_flex_l\", \"elbow_flex_r\",\n",
    "#     \"elbow_flex_l\"]);"
   ]
  },
  {
   "cell_type": "code",
   "execution_count": null,
   "metadata": {},
   "outputs": [],
   "source": [
    "# function normalizedeg(signal, events)\n",
    "#     mi, ma = intervalextrema(signal, events)\n",
    "#     mi_μ, ma_μ = circmeand(mi), circmeand(ma)\n",
    "#     signalcent = signal .- Ref(mi_μ + (ma_μ - mi_μ)/2)\n",
    "\n",
    "#     signalcent ./= (ma_μ - mi_μ)\n",
    "    \n",
    "#     return signalcent\n",
    "# end"
   ]
  },
  {
   "cell_type": "code",
   "execution_count": null,
   "metadata": {
    "tags": []
   },
   "outputs": [],
   "source": [
    "# let trial = first(filter(==(\"07\")∘subject, trials))\n",
    "#     finish = conditions(trial)[:task] == \"dual\" ? 80. : nothing\n",
    "#     events = readsegment(Segment(trial, \"events\"; start=25.0, finish))\n",
    "#     rfcidx = toindices(events[\"RFC\"], 100)\n",
    "\n",
    "#     seg = Segment(trial, \"ik\"; start=25.0, finish)\n",
    "#     jnts = readsegment(seg; series=[\"hip_flexion_r\", \"hip_flexion_l\",\n",
    "#         \"knee_angle_r\", \"knee_angle_l\", \"arm_flex_r\", \"arm_flex_l\", \"elbow_flex_r\",\n",
    "#         \"elbow_flex_l\"]);\n",
    "#     lhip_pgm = mt_pgram(normalizedeg(jnts.hip_flexion_l, rfcidx); fs=100)\n",
    "#     rhip_pgm = mt_pgram(normalizedeg(jnts.hip_flexion_r, rfcidx); fs=100)\n",
    "#     lhip = plot(scatter(;x=freq(lhip_pgm), y=power(lhip_pgm), name=\"Left hip\"),\n",
    "#         Layout(;title=\"Left hip\", xaxis_range=[0,2.5]))\n",
    "#     rhip = plot(scatter(;x=freq(rhip_pgm), y=power(rhip_pgm), name=\"Right hip\"),\n",
    "#         Layout(;title=\"Right hip\", xaxis_range=[0,2.5]))\n",
    "\n",
    "#     lsho_pgm = mt_pgram(normalizedeg(jnts.arm_flex_l, rfcidx); fs=100)\n",
    "#     rsho_pgm = mt_pgram(normalizedeg(jnts.arm_flex_r, rfcidx); fs=100)\n",
    "#     lsho = plot(scatter(;x=freq(lsho_pgm), y=power(lsho_pgm), name=\"Left shoulder\",),\n",
    "#         Layout(;title=\"Left shoulder\", xaxis_range=[0,2.5]))\n",
    "#     rsho = plot(scatter(;x=freq(rsho_pgm), y=power(rsho_pgm), name=\"Right Shoulder\",),\n",
    "#         Layout(;title=\"Right Shoulder\", xaxis_range=[0,2.5]))\n",
    "\n",
    "#     cross_spectra = mt_cross_power_spectra(hcat(normalizedeg(jnts.hip_flexion_l, rfcidx), \n",
    "#         normalizedeg(jnts.hip_flexion_r, rfcidx),\n",
    "#         normalizedeg(jnts.arm_flex_l, rfcidx),\n",
    "#         normalizedeg(jnts.arm_flex_r, rfcidx))'; fs=100, onesided=true)\n",
    "\n",
    "#     hip_inter_p = plot(scatter(;x=freq(cross_spectra), y=abs.(power(cross_spectra)[1,2,:]),\n",
    "#         name=\"Hip interlimb\"), Layout(;xaxis_range=[0,2.5]))\n",
    "#     sho_inter_p = plot(scatter(;x=freq(cross_spectra), y=abs.(power(cross_spectra)[3,4,:]),\n",
    "#         name=\"Shoulder interlimb\"), Layout(;xaxis_range=[0,2.5]))\n",
    "#     lipsi_p = plot(scatter(;x=freq(cross_spectra), y=abs.(power(cross_spectra)[1,3,:]),\n",
    "#         name=\"Left ipsilateral interlimb\"), Layout(;xaxis_range=[0,2.5]))\n",
    "#     ripsi_p = plot(scatter(;x=freq(cross_spectra), y=abs.(power(cross_spectra)[2,4,:]),\n",
    "#         name=\"Right ipsilateral interlimb\"), Layout(;xaxis_range=[0,2.5]))\n",
    "\n",
    "#     p = [ lsho sho_inter_p rsho\n",
    "#       lipsi_p plot() ripsi_p\n",
    "#       lhip hip_inter_p rhip ]\n",
    "    \n",
    "#     relayout!(p.plot, Layout(;height=800, width=1000))\n",
    "#     p\n",
    "# end"
   ]
  },
  {
   "cell_type": "code",
   "execution_count": null,
   "metadata": {},
   "outputs": [],
   "source": [
    "# let trial = trial = first(filter(==(\"07\")∘subject, trials)), jntname = \"arm_flex_l\"\n",
    "#     finish = conditions(trial)[:task] == \"dual\" ? 80. : nothing\n",
    "#     events = readsegment(Segment(trial, \"events\"; start=25.0, finish))\n",
    "#     rfcidx = toindices(events[\"RFC\"], 100)\n",
    "\n",
    "#     seg = Segment(trial, \"ik\"; start=25.0, finish)\n",
    "#     jnts = readsegment(seg; series=[\"hip_flexion_r\", \"hip_flexion_l\",\n",
    "#         \"knee_angle_r\", \"knee_angle_l\", \"arm_flex_r\", \"arm_flex_l\", \"elbow_flex_r\",\n",
    "#         \"elbow_flex_l\"]);\n",
    "#     # nstr = timenormalize(ParkinsonsDualTaskCoordination.centerd(jnts[!, jntname], rfcidx), rfcidx)\n",
    "#     nstr = timenormalize(jnts[!, jntname], rfcidx)\n",
    "#     rnstr = reshape(nstr, 100, :)\n",
    "#     mins, mnidxs = findmin(rnstr, dims=1)\n",
    "#     maxs, mxidxs = findmax(rnstr, dims=1)\n",
    "\n",
    "# #     NW = [ mean(nstr[i:100:end]) for i in 1:100 ]\n",
    "#     NW = vec(mean(rnstr, dims=2))\n",
    "\n",
    "#     ss = [ scatter(;x=0:99,\n",
    "#             y=rnstr[:,i],\n",
    "#             line_color=\"rgba(89,105,112,0.50)\",\n",
    "#             showlegend=false,\n",
    "#             name=\"Stride $i\") for i in axes(rnstr,2)]\n",
    "    \n",
    "#     minmaxtrace = [\n",
    "#         scatter(;x=vec(LinearIndices(rnstr)[mnidxs]) .% 100, y=vec(mins), mode=\"markers\", name=\"Cycle mininum\"),\n",
    "#         scatter(;x=vec(LinearIndices(rnstr)[mxidxs]) .% 100, y=vec(maxs), mode=\"markers\", name=\"Cycle maximum\"),\n",
    "#     ]\n",
    "\n",
    "#     lyt = Layout(;\n",
    "#         title=\"Ensemble of \\\"$jntname\\\"\",\n",
    "#         yaxis_hoverformat=\".2r\",\n",
    "#         xaxis_title=\"Stride (%)\",\n",
    "#         yaxis_title=\"Joint angle (deg)\"\n",
    "#         )\n",
    "\n",
    "#     plot([ss; minmaxtrace; scatter(;x=0:99, y=NW, line_color=\"rgb(216,0,50)\", name=\"Ensemble average\")],lyt)\n",
    "# end"
   ]
  },
  {
   "cell_type": "code",
   "execution_count": null,
   "metadata": {},
   "outputs": [],
   "source": [
    "# let trial = first(filter(==(\"07\")∘subject, trials)), nameA = \"arm_flex_l\", nameB = \"arm_flex_r\"\n",
    "#     finish = conditions(trial)[:task] == \"dual\" ? 80. : nothing\n",
    "#     events = readsegment(Segment(trial, \"events\"; start=25.0, finish))\n",
    "#     rfcidx = toindices(events[\"RFC\"], 100)\n",
    "\n",
    "#     seg = Segment(trial, \"ik\"; start=25.0, finish)\n",
    "#     jnts = readsegment(seg; series=[\"hip_flexion_r\", \"hip_flexion_l\",\n",
    "#         \"knee_angle_r\", \"knee_angle_l\", \"arm_flex_r\", \"arm_flex_l\", \"elbow_flex_r\",\n",
    "#         \"elbow_flex_l\"]);\n",
    "#     sigA = jnts[!, nameA]\n",
    "#     sigB = jnts[!, nameB]\n",
    "#     events = rfcidx\n",
    "#     θA = continuousphase(sigA, events; centerfun=ParkinsonsDualTaskCoordination.centerd)\n",
    "#     θB = continuousphase(sigB, events; centerfun=ParkinsonsDualTaskCoordination.centerd)\n",
    "    \n",
    "#     crp = unwrap(θA; range=2pi) - unwrap(θB; range=2pi)\n",
    "#     crp_norm = rad2deg.(timenormalize(crp, events))\n",
    "\n",
    "#     rnstr = unwrap(reshape(crp_norm, 100, :), range=360, dims=1)\n",
    "\n",
    "#     NW = mod.(vec(circmeand.(eachslice(rnstr, dims=1))),360)\n",
    "#     meansd = vec(circstdd.(eachslice(rnstr, dims=1)))\n",
    "\n",
    "#     ss = [ scatter(;x=0:99,\n",
    "#             y=mod.(rnstr[:,i],360),\n",
    "#             line_color=\"rgba(89,105,112,0.50)\",\n",
    "#             showlegend=false,\n",
    "#             yaxis=\"y2\",\n",
    "#             name=\"Stride $i\") for i in axes(rnstr,2)]\n",
    "    \n",
    "#     lyt = Layout(;\n",
    "#         title=\"Ensemble\",\n",
    "#         yaxis_hoverformat=\".2r\",\n",
    "#         xaxis_title=\"Stride (%)\",\n",
    "#         yaxis_title=\"CRP SD (deg)\",\n",
    "#         xaxis_position=0,\n",
    "#         yaxis=attr(;\n",
    "#             side=\"right\",\n",
    "#             constraintoward=\"bottom\",\n",
    "# #             domain=[0,0.3],\n",
    "#         ),\n",
    "#         yaxis2=attr(;\n",
    "#             overlaying=\"y\",\n",
    "#             scaleanchor=\"y\",\n",
    "#             scaleratio=1/2,\n",
    "#             title=\"Relative phase (deg)\",\n",
    "#         ),\n",
    "#         )\n",
    "\n",
    "#     plot([scatter(;x=0:99, y=meansd, fill=\"tozeroy\", yaxis=\"y\", name=\"Ensemble std\"); ss;\n",
    "#           scatter(;x=0:99, y=NW, line_color=\"rgb(216,0,50)\", yaxis=\"y2\", name=\"Ensemble average\")],lyt)\n",
    "# end"
   ]
  },
  {
   "cell_type": "markdown",
   "metadata": {},
   "source": [
    "## Main analysis"
   ]
  },
  {
   "cell_type": "code",
   "execution_count": null,
   "metadata": {},
   "outputs": [],
   "source": [
    "srs = analyzedataset(trials, OSimMotion) do trial\n",
    "    analyze(trial; genpath)\n",
    "end;"
   ]
  },
  {
   "cell_type": "markdown",
   "metadata": {},
   "source": [
    "## Statistics"
   ]
  },
  {
   "cell_type": "code",
   "execution_count": null,
   "metadata": {},
   "outputs": [],
   "source": [
    "longdf = DatasetManager.stack(srs, [:task,:ma_side])\n",
    "levels!(longdf.task, [\"single\", \"dual\"])\n",
    "ordered!(longdf.task, true)\n",
    "sort!(longdf, [:subject,:task])\n",
    "\n",
    "widedf = unstack(longdf)\n",
    "gd = groupby(widedf, :task);"
   ]
  },
  {
   "cell_type": "code",
   "execution_count": null,
   "metadata": {},
   "outputs": [],
   "source": [
    "CSV.write(\"../results/results.csv\", longdf)"
   ]
  },
  {
   "cell_type": "code",
   "execution_count": null,
   "metadata": {},
   "outputs": [],
   "source": [
    "write_results(\"../results/results-wide.csv\", longdf, [:task])"
   ]
  },
  {
   "cell_type": "code",
   "execution_count": null,
   "metadata": {},
   "outputs": [],
   "source": [
    "vars = resultsvariables(srs)\n",
    "degreevars = vars[findall(contains(r\"flex|rom(?!_sd)|phase\"), vars)]\n",
    "nondegreevars = setdiff(vars, degreevars);"
   ]
  },
  {
   "cell_type": "code",
   "execution_count": null,
   "metadata": {},
   "outputs": [],
   "source": [
    "sort!(combine(gd, [:numlsteps, :numrsteps] => ((l,r) -> [(mean([l;r]), std([l;r]), minimum([l;r]))]) => [:steps_avg, :steps_std, :steps_min]), :task)"
   ]
  },
  {
   "cell_type": "code",
   "execution_count": null,
   "metadata": {},
   "outputs": [],
   "source": [
    "combine(widedf, :gait_speed => (v -> [(mean(skipmissing(v)), std(skipmissing(v)), minimum(skipmissing(v)))]) => [:avg_gaitvelocity, :gaitvelocity_std, :min_gaitvelocity])"
   ]
  },
  {
   "cell_type": "markdown",
   "metadata": {
    "jp-MarkdownHeadingCollapsed": true,
    "tags": []
   },
   "source": [
    "### Results inspection/verification"
   ]
  },
  {
   "cell_type": "code",
   "execution_count": null,
   "metadata": {},
   "outputs": [],
   "source": [
    "# using StatsPlots, Distributions"
   ]
  },
  {
   "cell_type": "code",
   "execution_count": null,
   "metadata": {},
   "outputs": [],
   "source": [
    "# i = 0"
   ]
  },
  {
   "cell_type": "code",
   "execution_count": null,
   "metadata": {},
   "outputs": [],
   "source": [
    "# i += 1\n",
    "# qqplot(Normal, widedf[!, nondegreevars[i]], title=nondegreevars[i])"
   ]
  },
  {
   "cell_type": "code",
   "execution_count": null,
   "metadata": {},
   "outputs": [],
   "source": [
    "# bp = plot([\n",
    "#     box(;x=widedf.task, y=widedf[!, nondegreevars[i]], name=nondegreevars[i], legendgroup=nondegreevars[i], text=widedf.subject, hoverinfo=\"y+text\", boxpoints=\"suspectedoutliers\") for i in axes(nondegreevars,1)\n",
    "# ], Layout(;\n",
    "#     boxmode=\"group\",\n",
    "# ))\n",
    "# diffp = plot([\n",
    "#     scatter(;x=vec(reshape([ reshape(widedf.task, (2, :)); fill(missing, (1,size(widedf, 1)÷2)) ], (:,1))),\n",
    "#             y=vec(reshape([ reshape(widedf[!, nondegreevars[i]], (2, :)); fill(missing, (1,size(widedf, 1)÷2)) ], (:,1))),\n",
    "#             text=vec(reshape([ reshape(widedf.subject, (2, :)); fill(missing, (1,size(widedf, 1)÷2)) ], (:,1))),\n",
    "#             legendgroup=nondegreevars[i],\n",
    "#             name=nondegreevars[i], hoverinfo=\"y+text\", mode=\"markers+lines\") for i in axes(nondegreevars,1)\n",
    "# ], Layout(;\n",
    "#         width=500,\n",
    "#         height=400,\n",
    "# ))\n",
    "# [bp diffp]"
   ]
  },
  {
   "cell_type": "code",
   "execution_count": null,
   "metadata": {},
   "outputs": [],
   "source": [
    "# degplot = PlotlyJS.plot(reduce(vcat, collect([\n",
    "#     scatterpolar(;r=ones(sum(widedf.task .== \"dual\")), theta=widedf[widedf.task .== \"dual\", degreevars[i]],\n",
    "#         text=widedf[widedf.task .== \"dual\", :subject], hoverinfo=\"theta+text\", mode=\"markers\", marker_color=\"red\", legendgrouptitle=degreevars[i], legendgroup=degreevars[i], name=degreevars[i]),\n",
    "#     scatterpolar(;r=ones(sum(widedf.task .== \"single\")), theta=widedf[widedf.task .== \"single\", degreevars[i]],\n",
    "#         text=widedf[widedf.task .== \"single\", :subject], hoverinfo=\"theta+text\", mode=\"markers\", marker_color=\"blue\", legendgroup=degreevars[i], showlegend=false)]\n",
    "#     for i in axes(degreevars,1))),\n",
    "# Layout(;\n",
    "#     uirevision=rand(),\n",
    "# ))"
   ]
  },
  {
   "cell_type": "markdown",
   "metadata": {},
   "source": [
    "## Statistical Analysis"
   ]
  },
  {
   "cell_type": "code",
   "execution_count": null,
   "metadata": {},
   "outputs": [],
   "source": [
    "function unzip(x::Vector{NTuple{N,T}}) where {N,T}\n",
    "    out = ntuple(_ -> Vector{T}(undef, 0), N)\n",
    "    unzip!(out,x)\n",
    "end\n",
    "\n",
    "function unzip!(out, x::Vector{NTuple{N,T}}) where {N,T}\n",
    "    for i in eachindex(x), j in 1:N\n",
    "        push!(out[j], x[i][j])\n",
    "    end\n",
    "    \n",
    "    return out\n",
    "end\n",
    "\n",
    "function dropmissingpairs(x, y)\n",
    "    a,b = unzip(filter(x -> !any(ismissing, x), zip(x, y) |> collect))\n",
    "    V = Vector{nonmissingtype(eltype(a))}\n",
    "    return convert(V, a), convert(V, b)\n",
    "end"
   ]
  },
  {
   "cell_type": "code",
   "execution_count": null,
   "metadata": {},
   "outputs": [],
   "source": [
    "function CohensDz(test::OneSampleTTest)\n",
    "    return test.t/sqrt(test.n)\n",
    "end\n",
    "\n",
    "function HedgesGₐᵥ(mdiff, sd1, sd2)\n",
    "    return mdiff/((sd1+sd2)/2)\n",
    "end"
   ]
  },
  {
   "cell_type": "code",
   "execution_count": null,
   "metadata": {
    "tags": []
   },
   "outputs": [],
   "source": [
    "function ttest_table(df)\n",
    "    _df = select(df, r\"^(la|ma|hip|shoulder)|task|pci|asym$\")\n",
    "    dt = _df[_df.task .== \"dual\",:]\n",
    "    st = _df[_df.task .== \"single\",:]\n",
    "    varnames = names(_df, Not([:task,:ma_side]))\n",
    "    ttests = [[ OneSampleTTest((-)(dropmissingpairs(dt[!, col], st[!, col])...)) for col in intersect(nondegreevars, varnames) ];\n",
    "        [ OneSampleTTest(circmeand((-)(dropmissingpairs(dt[!, col], st[!, col])...)),\n",
    "                circstdd((-)(dropmissingpairs(dt[!, col], st[!, col])...)), length(dropmissingpairs(dt[!, col], st[!, col])[1]), 0) for col in intersect(degreevars, varnames) ]]\n",
    "    variables = [intersect(string.(nondegreevars), varnames); intersect(string.(degreevars), varnames)]\n",
    "    tails = map(variables) do var\n",
    "        if occursin(r\"(rom|flex)$\", var)\n",
    "            return :left\n",
    "        elseif occursin(r\"pci|meansd$\", var)\n",
    "            return :right\n",
    "        end\n",
    "        return :both\n",
    "    end\n",
    "    \n",
    "    outdf = DataFrame(\n",
    "        variables = variables,\n",
    "        ST = map(variables) do var\n",
    "            if var ∈ degreevars\n",
    "                return Printf.format(Printf.Format(\"%.1f ± %.1f\"), circmeand(st[!,var] |> skipmissing), circstdd(st[!,var] |> skipmissing))\n",
    "            else\n",
    "                return Printf.format(Printf.Format(\"%.1f ± %.1f\"), mean(st[!,var] |> skipmissing), std(st[!,var] |> skipmissing))\n",
    "            end\n",
    "        end,\n",
    "        DT = map(variables) do var\n",
    "            if var ∈ degreevars\n",
    "                return Printf.format(Printf.Format(\"%.1f ± %.1f\"), circmeand(dt[!,var] |> skipmissing), circstdd(dt[!,var] |> skipmissing))\n",
    "            else\n",
    "                return Printf.format(Printf.Format(\"%.1f ± %.1f\"), mean(dt[!,var] |> skipmissing), std(dt[!,var] |> skipmissing))\n",
    "            end\n",
    "        end,\n",
    "        meandiff = round.(getfield.(ttests, :xbar); sigdigits=3),\n",
    "        low_ci = round.(first.(confint.(ttests)); digits=1),\n",
    "        upper_ci = round.(last.(confint.(ttests)); digits=1),\n",
    "        t = Printf.format.(Ref(Printf.Format(\"t(%d)=%.2f\")), getfield.(ttests, :df), getfield.(ttests, :t)),\n",
    "        pvalue = ((test,t) -> clamp(round(pvalue(test; tail=t); digits=3), .001, 1)).(ttests, tails),\n",
    "        tails=tails,\n",
    "        Gav = Printf.format.(Ref(Printf.Format(\"%.2f\")), HedgesGₐᵥ.(getfield.(ttests, :xbar),\n",
    "                [[std(dt[!,var] |> skipmissing) for var in intersect(string.(nondegreevars), varnames)]; [circstdd(dt[!,var] |> skipmissing) for var in intersect(string.(degreevars), varnames)]],\n",
    "                [[std(st[!,var] |> skipmissing) for var in intersect(string.(nondegreevars), varnames)]; [circstdd(st[!,var] |> skipmissing) for var in intersect(string.(degreevars), varnames)]])),\n",
    "        CohensDz = Printf.format.(Ref(Printf.Format(\"%.2f\")), CohensDz.(ttests)),\n",
    "    )\n",
    "\n",
    "    order = [\"shoulder_rom_asym\", \"la_shoulder_rom\", \"ma_shoulder_rom\", \"shoulder_peakflex_asym\",\n",
    "        \"la_shoulder_peak_flex\", \"ma_shoulder_peak_flex\", \"hip_rom_asym\", \"la_hip_rom\",\n",
    "        \"ma_hip_rom\", \"hip_peakflex_asym\", \"la_hip_peak_flex\", \"ma_hip_peak_flex\", \"pci\", \"shoulder_inter_avg_phase\",\n",
    "        \"shoulder_inter_meansd\", \"hip_inter_avg_phase\", \"hip_inter_meansd\", \"la_ipsi_avg_phase\",\n",
    "        \"ma_ipsi_avg_phase\", \"ipsi_meansd_asym\", \"la_ipsi_meansd\", \"ma_ipsi_meansd\", \"la_contra_avg_phase\",\n",
    "        \"ma_contra_avg_phase\", \"la_contra_meansd\", \"ma_contra_meansd\", \"la_ulimb_intra_avg_phase\",\n",
    "        \"ma_ulimb_intra_avg_phase\", \"ulimb_intra_meansd_asym\", \"la_ulimb_intra_meansd\",\n",
    "        \"ma_ulimb_intra_meansd\", \"la_llimb_intra_avg_phase\", \"ma_llimb_intra_avg_phase\",\n",
    "        \"llimb_intra_meansd_asym\", \"la_llimb_intra_meansd\", \"ma_llimb_intra_meansd\"]\n",
    "    sort!(outdf, :variables; by=(x-> something(findfirst(==(x), order), 100)))\n",
    "    \n",
    "    outdf\n",
    "end"
   ]
  },
  {
   "cell_type": "code",
   "execution_count": null,
   "metadata": {},
   "outputs": [],
   "source": [
    "tt_results = ttest_table(widedf)\n",
    "pretty_table(tt_results; backend=Val(:html), highlighters=(HTMLHighlighter((d,i,j) -> (j ∈ (8,)) && (d[i,j] ≤ .05), HTMLDecoration(font_weight = \"bold\")),))"
   ]
  },
  {
   "cell_type": "code",
   "execution_count": null,
   "metadata": {},
   "outputs": [],
   "source": [
    "CSV.write(\"../results/ttests.csv\", tt_results)"
   ]
  },
  {
   "cell_type": "code",
   "execution_count": null,
   "metadata": {},
   "outputs": [],
   "source": []
  }
 ],
 "metadata": {
  "@webio": {
   "lastCommId": "9bdfb682-f1dc-4f02-a0ae-b7f1d9b3315a",
   "lastKernelId": "be2552eb-c52a-4f87-929d-5326ca1e95a6"
  },
  "kernelspec": {
   "display_name": "Julia stable MOAR THREADS 1.7.3",
   "language": "julia",
   "name": "julia-stable-moar-threads-1.7"
  },
  "language_info": {
   "file_extension": ".jl",
   "mimetype": "application/julia",
   "name": "julia",
   "version": "1.7.3"
  },
  "toc-showtags": false
 },
 "nbformat": 4,
 "nbformat_minor": 4
}
